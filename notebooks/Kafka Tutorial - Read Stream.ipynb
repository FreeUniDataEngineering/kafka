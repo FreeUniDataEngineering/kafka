{
 "cells": [
  {
   "cell_type": "code",
   "execution_count": 1,
   "metadata": {},
   "outputs": [
    {
     "name": "stdout",
     "output_type": "stream",
     "text": [
      "Collecting kafka-python\n",
      "  Downloading kafka_python-2.0.2-py2.py3-none-any.whl (246 kB)\n",
      "     |████████████████████████████████| 246 kB 845 kB/s            \n",
      "\u001b[?25hInstalling collected packages: kafka-python\n",
      "Successfully installed kafka-python-2.0.2\n"
     ]
    }
   ],
   "source": [
    "!pip install kafka-python"
   ]
  },
  {
   "cell_type": "code",
   "execution_count": 2,
   "metadata": {},
   "outputs": [],
   "source": [
    "from kafka import KafkaConsumer, KafkaProducer\n",
    "import json\n",
    "import uuid\n",
    "\n",
    "\n",
    "def publish_message(producer_instance, topic_name, key, value):\n",
    "    try:\n",
    "        key_bytes = bytes(key, encoding='utf-8')\n",
    "        value_bytes = bytes(value, encoding='utf-8')\n",
    "        producer_instance.send(topic_name, key=key_bytes, value=value_bytes)\n",
    "        producer_instance.flush()\n",
    "        print('Message published successfully.')\n",
    "    except Exception as ex:\n",
    "        print('Exception in publishing message')\n",
    "        print(str(ex))\n",
    "\n",
    "\n",
    "def connect_kafka_producer(server):\n",
    "    _producer = None\n",
    "    try:\n",
    "        _producer = KafkaProducer(bootstrap_servers=[server], api_version=(0, 10))\n",
    "    except Exception as ex:\n",
    "        print('Exception while connecting Kafka')\n",
    "        print(str(ex))\n",
    "    finally:\n",
    "        return _producer"
   ]
  },
  {
   "cell_type": "code",
   "execution_count": 3,
   "metadata": {},
   "outputs": [],
   "source": [
    "server = 'broker:9093'\n",
    "\n",
    "heroes_topic = 'heroes'"
   ]
  },
  {
   "cell_type": "code",
   "execution_count": 4,
   "metadata": {},
   "outputs": [
    {
     "data": {
      "text/plain": [
       "{'first_topic', 'heroes', 'intro'}"
      ]
     },
     "execution_count": 4,
     "metadata": {},
     "output_type": "execute_result"
    }
   ],
   "source": [
    "consumer = KafkaConsumer(bootstrap_servers=[server], group_id='heroes-group')\n",
    "\n",
    "consumer.topics()"
   ]
  },
  {
   "cell_type": "code",
   "execution_count": 5,
   "metadata": {},
   "outputs": [
    {
     "name": "stdout",
     "output_type": "stream",
     "text": [
      "333 b'{\"Name\":\"Kraven the Hunter\",\"Alignment\":\"bad\",\"Intelligence\":63.00,\"Strength\":32.00,\"Speed\":35,\"Durability\":42.00,\"Power\":26.00,\"Combat\":85.00,\"Total\":283.00}'\n",
      "306 b'{\"Name\":\"Jack-jack\",\"Alignment\":\"good\",\"Intelligence\":6.00,\"Strength\":34.00,\"Speed\":67,\"Durability\":80.00,\"Power\":69.00,\"Combat\":6.00,\"Total\":262.00}'\n",
      "322 b'{\"Name\":\"Kang\",\"Alignment\":\"bad\",\"Intelligence\":100.00,\"Strength\":48.00,\"Speed\":58,\"Durability\":70.00,\"Power\":71.00,\"Combat\":70.00,\"Total\":417.00}'\n",
      "298 b'{\"Name\":\"Invisible Woman\",\"Alignment\":\"good\",\"Intelligence\":69.00,\"Strength\":10.00,\"Speed\":27,\"Durability\":70.00,\"Power\":74.00,\"Combat\":56.00,\"Total\":306.00}'\n",
      "309 b'{\"Name\":\"Jessica Sanders\",\"Alignment\":\"good\",\"Intelligence\":1.00,\"Strength\":1.00,\"Speed\":1,\"Durability\":1.00,\"Power\":0.00,\"Combat\":1.00,\"Total\":5.00}'\n",
      "349 b'{\"Name\":\"Luke Cage\",\"Alignment\":\"good\",\"Intelligence\":44.00,\"Strength\":55.00,\"Speed\":23,\"Durability\":95.00,\"Power\":35.00,\"Combat\":64.00,\"Total\":316.00}'\n",
      "323 b'{\"Name\":\"Kevin 11\",\"Alignment\":\"bad\",\"Intelligence\":25.00,\"Strength\":7.00,\"Speed\":12,\"Durability\":14.00,\"Power\":100.00,\"Combat\":40.00,\"Total\":198.00}'\n",
      "359 b'{\"Name\":\"Man-Thing\",\"Alignment\":\"good\",\"Intelligence\":50.00,\"Strength\":32.00,\"Speed\":8,\"Durability\":100.00,\"Power\":98.00,\"Combat\":40.00,\"Total\":328.00}'\n",
      "336 b'{\"Name\":\"Lady Deathstrike\",\"Alignment\":\"bad\",\"Intelligence\":1.00,\"Strength\":1.00,\"Speed\":1,\"Durability\":1.00,\"Power\":0.00,\"Combat\":1.00,\"Total\":5.00}'\n",
      "289 b'{\"Name\":\"Hulk\",\"Alignment\":\"good\",\"Intelligence\":88.00,\"Strength\":100.00,\"Speed\":47,\"Durability\":100.00,\"Power\":41.00,\"Combat\":85.00,\"Total\":461.00}'\n",
      "346 b'{\"Name\":\"Lobo\",\"Alignment\":\"bad\",\"Intelligence\":88.00,\"Strength\":83.00,\"Speed\":35,\"Durability\":100.00,\"Power\":95.00,\"Combat\":85.00,\"Total\":486.00}'\n",
      "318 b'{\"Name\":\"Jubilee\",\"Alignment\":\"good\",\"Intelligence\":56.00,\"Strength\":8.00,\"Speed\":22,\"Durability\":20.00,\"Power\":66.00,\"Combat\":90.00,\"Total\":262.00}'\n",
      "365 b'{\"Name\":\"Master Chief\",\"Alignment\":\"good\",\"Intelligence\":75.00,\"Strength\":73.00,\"Speed\":35,\"Durability\":80.00,\"Power\":62.00,\"Combat\":100.00,\"Total\":425.00}'\n",
      "294 b'{\"Name\":\"Hyperion\",\"Alignment\":\"good\",\"Intelligence\":63.00,\"Strength\":95.00,\"Speed\":75,\"Durability\":95.00,\"Power\":58.00,\"Combat\":72.00,\"Total\":458.00}'\n",
      "334 b'{\"Name\":\"Krypto\",\"Alignment\":\"good\",\"Intelligence\":9.00,\"Strength\":80.00,\"Speed\":100,\"Durability\":90.00,\"Power\":72.00,\"Combat\":40.00,\"Total\":391.00}'\n",
      "314 b'{\"Name\":\"John Stewart\",\"Alignment\":\"good\",\"Intelligence\":50.00,\"Strength\":80.00,\"Speed\":27,\"Durability\":64.00,\"Power\":94.00,\"Combat\":54.00,\"Total\":369.00}'\n",
      "363 b'{\"Name\":\"Marvel Girl\",\"Alignment\":\"good\",\"Intelligence\":63.00,\"Strength\":85.00,\"Speed\":47,\"Durability\":42.00,\"Power\":100.00,\"Combat\":80.00,\"Total\":417.00}'\n",
      "297 b'{\"Name\":\"Ink\",\"Alignment\":\"good\",\"Intelligence\":38.00,\"Strength\":28.00,\"Speed\":17,\"Durability\":40.00,\"Power\":66.00,\"Combat\":50.00,\"Total\":239.00}'\n",
      "325 b'{\"Name\":\"Kid Flash\",\"Alignment\":\"good\",\"Intelligence\":25.00,\"Strength\":4.00,\"Speed\":92,\"Durability\":42.00,\"Power\":13.00,\"Combat\":30.00,\"Total\":206.00}'\n",
      "370 b'{\"Name\":\"Maya Herrera\",\"Alignment\":\"good\",\"Intelligence\":50.00,\"Strength\":10.00,\"Speed\":12,\"Durability\":14.00,\"Power\":60.00,\"Combat\":14.00,\"Total\":160.00}'\n",
      "290 b'{\"Name\":\"Human Torch\",\"Alignment\":\"good\",\"Intelligence\":56.00,\"Strength\":10.00,\"Speed\":63,\"Durability\":70.00,\"Power\":74.00,\"Combat\":42.00,\"Total\":315.00}'\n",
      "332 b'{\"Name\":\"Kraven II\",\"Alignment\":\"bad\",\"Intelligence\":50.00,\"Strength\":34.00,\"Speed\":23,\"Durability\":28.00,\"Power\":36.00,\"Combat\":85.00,\"Total\":256.00}'\n",
      "331 b'{\"Name\":\"Kool-Aid Man\",\"Alignment\":\"good\",\"Intelligence\":25.00,\"Strength\":10.00,\"Speed\":12,\"Durability\":14.00,\"Power\":10.00,\"Combat\":14.00,\"Total\":85.00}'\n",
      "343 b'{\"Name\":\"Living Brain\",\"Alignment\":\"bad\",\"Intelligence\":75.00,\"Strength\":53.00,\"Speed\":35,\"Durability\":56.00,\"Power\":31.00,\"Combat\":28.00,\"Total\":278.00}'\n",
      "286 b'{\"Name\":\"Hollow\",\"Alignment\":\"good\",\"Intelligence\":1.00,\"Strength\":1.00,\"Speed\":1,\"Durability\":1.00,\"Power\":0.00,\"Combat\":1.00,\"Total\":5.00}'\n",
      "368 b'{\"Name\":\"Maverick\",\"Alignment\":\"good\",\"Intelligence\":63.00,\"Strength\":10.00,\"Speed\":12,\"Durability\":42.00,\"Power\":60.00,\"Combat\":85.00,\"Total\":272.00}'\n",
      "284 b'{\"Name\":\"Hit-Girl\",\"Alignment\":\"good\",\"Intelligence\":10.00,\"Strength\":8.00,\"Speed\":23,\"Durability\":14.00,\"Power\":21.00,\"Combat\":56.00,\"Total\":132.00}'\n",
      "374 b'{\"Name\":\"Mera\",\"Alignment\":\"good\",\"Intelligence\":56.00,\"Strength\":62.00,\"Speed\":54,\"Durability\":70.00,\"Power\":55.00,\"Combat\":70.00,\"Total\":367.00}'\n",
      "372 b'{\"Name\":\"Meltdown\",\"Alignment\":\"good\",\"Intelligence\":38.00,\"Strength\":10.00,\"Speed\":12,\"Durability\":42.00,\"Power\":58.00,\"Combat\":64.00,\"Total\":224.00}'\n",
      "376 b'{\"Name\":\"Metamorpho\",\"Alignment\":\"good\",\"Intelligence\":1.00,\"Strength\":1.00,\"Speed\":1,\"Durability\":1.00,\"Power\":0.00,\"Combat\":1.00,\"Total\":5.00}'\n",
      "362 b'{\"Name\":\"Martian Manhunter\",\"Alignment\":\"good\",\"Intelligence\":100.00,\"Strength\":100.00,\"Speed\":96,\"Durability\":100.00,\"Power\":100.00,\"Combat\":85.00,\"Total\":581.00}'\n",
      "303 b'{\"Name\":\"Isis\",\"Alignment\":\"good\",\"Intelligence\":75.00,\"Strength\":48.00,\"Speed\":75,\"Durability\":46.00,\"Power\":43.00,\"Combat\":56.00,\"Total\":343.00}'\n",
      "327 b'{\"Name\":\"Killer Croc\",\"Alignment\":\"bad\",\"Intelligence\":25.00,\"Strength\":48.00,\"Speed\":33,\"Durability\":85.00,\"Power\":36.00,\"Combat\":60.00,\"Total\":287.00}'\n",
      "305 b'{\"Name\":\"Jack of Hearts\",\"Alignment\":\"good\",\"Intelligence\":63.00,\"Strength\":55.00,\"Speed\":100,\"Durability\":30.00,\"Power\":70.00,\"Combat\":30.00,\"Total\":348.00}'\n",
      "358 b'{\"Name\":\"Man-Bat\",\"Alignment\":\"neutral\",\"Intelligence\":38.00,\"Strength\":18.00,\"Speed\":50,\"Durability\":70.00,\"Power\":33.00,\"Combat\":30.00,\"Total\":239.00}'\n",
      "321 b'{\"Name\":\"Justice\",\"Alignment\":\"good\",\"Intelligence\":50.00,\"Strength\":10.00,\"Speed\":33,\"Durability\":70.00,\"Power\":55.00,\"Combat\":30.00,\"Total\":248.00}'\n",
      "330 b'{\"Name\":\"Klaw\",\"Alignment\":\"bad\",\"Intelligence\":63.00,\"Strength\":38.00,\"Speed\":33,\"Durability\":100.00,\"Power\":62.00,\"Combat\":60.00,\"Total\":356.00}'\n",
      "341 b'{\"Name\":\"Lightning Lad\",\"Alignment\":\"good\",\"Intelligence\":38.00,\"Strength\":10.00,\"Speed\":23,\"Durability\":28.00,\"Power\":60.00,\"Combat\":42.00,\"Total\":201.00}'\n",
      "291 b'{\"Name\":\"Huntress\",\"Alignment\":\"good\",\"Intelligence\":69.00,\"Strength\":10.00,\"Speed\":23,\"Durability\":28.00,\"Power\":34.00,\"Combat\":95.00,\"Total\":259.00}'\n",
      "350 b'{\"Name\":\"Luke Campbell\",\"Alignment\":\"bad\",\"Intelligence\":1.00,\"Strength\":1.00,\"Speed\":1,\"Durability\":1.00,\"Power\":0.00,\"Combat\":1.00,\"Total\":5.00}'\n",
      "353 b'{\"Name\":\"Mach-IV\",\"Alignment\":\"bad\",\"Intelligence\":75.00,\"Strength\":36.00,\"Speed\":60,\"Durability\":84.00,\"Power\":60.00,\"Combat\":56.00,\"Total\":371.00}'\n",
      "276 b'{\"Name\":\"Hawkwoman I\",\"Alignment\":\"good\",\"Intelligence\":1.00,\"Strength\":1.00,\"Speed\":1,\"Durability\":1.00,\"Power\":0.00,\"Combat\":1.00,\"Total\":5.00}'\n",
      "312 b'{\"Name\":\"JJ Powell\",\"Alignment\":\"good\",\"Intelligence\":88.00,\"Strength\":10.00,\"Speed\":8,\"Durability\":10.00,\"Power\":14.00,\"Combat\":10.00,\"Total\":140.00}'\n",
      "357 b'{\"Name\":\"Magus\",\"Alignment\":\"bad\",\"Intelligence\":88.00,\"Strength\":100.00,\"Speed\":70,\"Durability\":99.00,\"Power\":100.00,\"Combat\":74.00,\"Total\":531.00}'\n",
      "324 b'{\"Name\":\"Kick-Ass\",\"Alignment\":\"good\",\"Intelligence\":10.00,\"Strength\":10.00,\"Speed\":23,\"Durability\":14.00,\"Power\":21.00,\"Combat\":56.00,\"Total\":134.00}'\n",
      "328 b'{\"Name\":\"Kilowog\",\"Alignment\":\"good\",\"Intelligence\":81.00,\"Strength\":90.00,\"Speed\":53,\"Durability\":42.00,\"Power\":100.00,\"Combat\":80.00,\"Total\":446.00}'\n",
      "351 b'{\"Name\":\"Luna\",\"Alignment\":\"good\",\"Intelligence\":38.00,\"Strength\":6.00,\"Speed\":83,\"Durability\":14.00,\"Power\":53.00,\"Combat\":14.00,\"Total\":208.00}'\n",
      "315 b'{\"Name\":\"John Wraith\",\"Alignment\":\"good\",\"Intelligence\":75.00,\"Strength\":12.00,\"Speed\":35,\"Durability\":28.00,\"Power\":65.00,\"Combat\":80.00,\"Total\":295.00}'\n",
      "345 b'{\"Name\":\"Lizard\",\"Alignment\":\"bad\",\"Intelligence\":38.00,\"Strength\":51.00,\"Speed\":27,\"Durability\":70.00,\"Power\":40.00,\"Combat\":56.00,\"Total\":282.00}'\n",
      "285 b'{\"Name\":\"Hobgoblin\",\"Alignment\":\"bad\",\"Intelligence\":1.00,\"Strength\":1.00,\"Speed\":1,\"Durability\":1.00,\"Power\":0.00,\"Combat\":1.00,\"Total\":5.00}'\n",
      "302 b'{\"Name\":\"Ironman\",\"Alignment\":\"good\",\"Intelligence\":1.00,\"Strength\":1.00,\"Speed\":1,\"Durability\":1.00,\"Power\":0.00,\"Combat\":1.00,\"Total\":5.00}'\n",
      "354 b'{\"Name\":\"Machine Man\",\"Alignment\":\"good\",\"Intelligence\":63.00,\"Strength\":32.00,\"Speed\":35,\"Durability\":84.00,\"Power\":51.00,\"Combat\":64.00,\"Total\":329.00}'\n",
      "310 b'{\"Name\":\"Jigsaw\",\"Alignment\":\"bad\",\"Intelligence\":1.00,\"Strength\":1.00,\"Speed\":1,\"Durability\":1.00,\"Power\":0.00,\"Combat\":1.00,\"Total\":5.00}'\n",
      "277 b'{\"Name\":\"Hawkwoman II\",\"Alignment\":\"good\",\"Intelligence\":1.00,\"Strength\":1.00,\"Speed\":1,\"Durability\":1.00,\"Power\":0.00,\"Combat\":1.00,\"Total\":5.00}'\n",
      "352 b'{\"Name\":\"Lyja\",\"Alignment\":\"good\",\"Intelligence\":1.00,\"Strength\":1.00,\"Speed\":1,\"Durability\":1.00,\"Power\":0.00,\"Combat\":1.00,\"Total\":5.00}'\n",
      "292 b'{\"Name\":\"Husk\",\"Alignment\":\"good\",\"Intelligence\":63.00,\"Strength\":63.00,\"Speed\":35,\"Durability\":78.00,\"Power\":53.00,\"Combat\":64.00,\"Total\":356.00}'\n",
      "280 b'{\"Name\":\"Hellcat\",\"Alignment\":\"good\",\"Intelligence\":50.00,\"Strength\":10.00,\"Speed\":23,\"Durability\":42.00,\"Power\":18.00,\"Combat\":70.00,\"Total\":213.00}'\n",
      "377 b'{\"Name\":\"Meteorite\",\"Alignment\":\"good\",\"Intelligence\":1.00,\"Strength\":1.00,\"Speed\":1,\"Durability\":1.00,\"Power\":0.00,\"Combat\":1.00,\"Total\":5.00}'\n",
      "375 b'{\"Name\":\"Metallo\",\"Alignment\":\"bad\",\"Intelligence\":75.00,\"Strength\":53.00,\"Speed\":23,\"Durability\":95.00,\"Power\":74.00,\"Combat\":64.00,\"Total\":384.00}'\n",
      "379 b'{\"Name\":\"Micah Sanders\",\"Alignment\":\"good\",\"Intelligence\":63.00,\"Strength\":8.00,\"Speed\":12,\"Durability\":14.00,\"Power\":57.00,\"Combat\":14.00,\"Total\":168.00}'\n",
      "378 b'{\"Name\":\"Metron\",\"Alignment\":\"good\",\"Intelligence\":88.00,\"Strength\":10.00,\"Speed\":47,\"Durability\":56.00,\"Power\":69.00,\"Combat\":28.00,\"Total\":298.00}'\n",
      "311 b'{\"Name\":\"Jim Powell\",\"Alignment\":\"good\",\"Intelligence\":38.00,\"Strength\":38.00,\"Speed\":23,\"Durability\":80.00,\"Power\":23.00,\"Combat\":20.00,\"Total\":222.00}'\n",
      "288 b'{\"Name\":\"Howard the Duck\",\"Alignment\":\"good\",\"Intelligence\":1.00,\"Strength\":1.00,\"Speed\":1,\"Durability\":1.00,\"Power\":0.00,\"Combat\":1.00,\"Total\":5.00}'\n",
      "317 b'{\"Name\":\"Jolt\",\"Alignment\":\"good\",\"Intelligence\":63.00,\"Strength\":12.00,\"Speed\":27,\"Durability\":32.00,\"Power\":31.00,\"Combat\":42.00,\"Total\":207.00}'\n",
      "339 b'{\"Name\":\"Lex Luthor\",\"Alignment\":\"bad\",\"Intelligence\":100.00,\"Strength\":10.00,\"Speed\":12,\"Durability\":14.00,\"Power\":10.00,\"Combat\":28.00,\"Total\":174.00}'\n",
      "340 b'{\"Name\":\"Light Lass\",\"Alignment\":\"good\",\"Intelligence\":38.00,\"Strength\":10.00,\"Speed\":35,\"Durability\":28.00,\"Power\":65.00,\"Combat\":42.00,\"Total\":218.00}'\n",
      "320 b'{\"Name\":\"Junkpile\",\"Alignment\":\"bad\",\"Intelligence\":50.00,\"Strength\":38.00,\"Speed\":17,\"Durability\":90.00,\"Power\":71.00,\"Combat\":30.00,\"Total\":296.00}'\n",
      "326 b'{\"Name\":\"Kid Flash II\",\"Alignment\":\"good\",\"Intelligence\":1.00,\"Strength\":1.00,\"Speed\":1,\"Durability\":1.00,\"Power\":0.00,\"Combat\":1.00,\"Total\":5.00}'\n",
      "319 b'{\"Name\":\"Juggernaut\",\"Alignment\":\"neutral\",\"Intelligence\":44.00,\"Strength\":100.00,\"Speed\":42,\"Durability\":100.00,\"Power\":74.00,\"Combat\":70.00,\"Total\":430.00}'\n",
      "308 b'{\"Name\":\"Jennifer Kale\",\"Alignment\":\"good\",\"Intelligence\":75.00,\"Strength\":10.00,\"Speed\":35,\"Durability\":42.00,\"Power\":61.00,\"Combat\":72.00,\"Total\":295.00}'\n",
      "335 b'{\"Name\":\"Lady Bullseye\",\"Alignment\":\"bad\",\"Intelligence\":1.00,\"Strength\":1.00,\"Speed\":1,\"Durability\":1.00,\"Power\":0.00,\"Combat\":1.00,\"Total\":5.00}'\n",
      "338 b'{\"Name\":\"Leech\",\"Alignment\":\"good\",\"Intelligence\":25.00,\"Strength\":5.00,\"Speed\":12,\"Durability\":14.00,\"Power\":62.00,\"Combat\":14.00,\"Total\":132.00}'\n",
      "342 b'{\"Name\":\"Lightning Lord\",\"Alignment\":\"bad\",\"Intelligence\":44.00,\"Strength\":10.00,\"Speed\":23,\"Durability\":42.00,\"Power\":66.00,\"Combat\":42.00,\"Total\":227.00}'\n",
      "293 b'{\"Name\":\"Hydro-Man\",\"Alignment\":\"bad\",\"Intelligence\":38.00,\"Strength\":13.00,\"Speed\":25,\"Durability\":80.00,\"Power\":66.00,\"Combat\":50.00,\"Total\":272.00}'\n",
      "329 b'{\"Name\":\"Kingpin\",\"Alignment\":\"bad\",\"Intelligence\":75.00,\"Strength\":18.00,\"Speed\":25,\"Durability\":40.00,\"Power\":13.00,\"Combat\":70.00,\"Total\":241.00}'\n",
      "287 b'{\"Name\":\"Hope Summers\",\"Alignment\":\"good\",\"Intelligence\":63.00,\"Strength\":10.00,\"Speed\":12,\"Durability\":32.00,\"Power\":89.00,\"Combat\":75.00,\"Total\":281.00}'\n",
      "364 b'{\"Name\":\"Master Brood\",\"Alignment\":\"good\",\"Intelligence\":1.00,\"Strength\":1.00,\"Speed\":1,\"Durability\":1.00,\"Power\":0.00,\"Combat\":1.00,\"Total\":5.00}'\n",
      "295 b'{\"Name\":\"Iceman\",\"Alignment\":\"good\",\"Intelligence\":63.00,\"Strength\":32.00,\"Speed\":53,\"Durability\":100.00,\"Power\":100.00,\"Combat\":64.00,\"Total\":412.00}'\n",
      "337 b'{\"Name\":\"Leader\",\"Alignment\":\"bad\",\"Intelligence\":100.00,\"Strength\":10.00,\"Speed\":12,\"Durability\":14.00,\"Power\":58.00,\"Combat\":42.00,\"Total\":236.00}'\n",
      "366 b'{\"Name\":\"Match\",\"Alignment\":\"bad\",\"Intelligence\":75.00,\"Strength\":95.00,\"Speed\":83,\"Durability\":85.00,\"Power\":90.00,\"Combat\":70.00,\"Total\":498.00}'\n",
      "307 b'{\"Name\":\"Jean Grey\",\"Alignment\":\"good\",\"Intelligence\":100.00,\"Strength\":80.00,\"Speed\":67,\"Durability\":100.00,\"Power\":100.00,\"Combat\":70.00,\"Total\":517.00}'\n",
      "296 b'{\"Name\":\"Impulse\",\"Alignment\":\"good\",\"Intelligence\":50.00,\"Strength\":10.00,\"Speed\":100,\"Durability\":60.00,\"Power\":63.00,\"Combat\":60.00,\"Total\":343.00}'\n",
      "355 b'{\"Name\":\"Magneto\",\"Alignment\":\"bad\",\"Intelligence\":88.00,\"Strength\":80.00,\"Speed\":27,\"Durability\":84.00,\"Power\":91.00,\"Combat\":80.00,\"Total\":450.00}'\n",
      "367 b'{\"Name\":\"Matt Parkman\",\"Alignment\":\"good\",\"Intelligence\":63.00,\"Strength\":10.00,\"Speed\":12,\"Durability\":14.00,\"Power\":59.00,\"Combat\":56.00,\"Total\":214.00}'\n",
      "344 b'{\"Name\":\"Liz Sherman\",\"Alignment\":\"good\",\"Intelligence\":1.00,\"Strength\":1.00,\"Speed\":1,\"Durability\":1.00,\"Power\":0.00,\"Combat\":1.00,\"Total\":5.00}'\n",
      "278 b'{\"Name\":\"Hawkwoman III\",\"Alignment\":\"good\",\"Intelligence\":1.00,\"Strength\":1.00,\"Speed\":1,\"Durability\":1.00,\"Power\":0.00,\"Combat\":1.00,\"Total\":5.00}'\n",
      "347 b'{\"Name\":\"Loki\",\"Alignment\":\"bad\",\"Intelligence\":88.00,\"Strength\":57.00,\"Speed\":47,\"Durability\":85.00,\"Power\":85.00,\"Combat\":56.00,\"Total\":418.00}'\n",
      "283 b'{\"Name\":\"Hiro Nakamura\",\"Alignment\":\"good\",\"Intelligence\":1.00,\"Strength\":1.00,\"Speed\":1,\"Durability\":1.00,\"Power\":0.00,\"Combat\":1.00,\"Total\":5.00}'\n",
      "304 b'{\"Name\":\"Jack Bauer\",\"Alignment\":\"good\",\"Intelligence\":1.00,\"Strength\":1.00,\"Speed\":1,\"Durability\":1.00,\"Power\":0.00,\"Combat\":1.00,\"Total\":5.00}'\n",
      "313 b'{\"Name\":\"Johann Krauss\",\"Alignment\":\"good\",\"Intelligence\":1.00,\"Strength\":1.00,\"Speed\":1,\"Durability\":1.00,\"Power\":0.00,\"Combat\":1.00,\"Total\":5.00}'\n",
      "348 b'{\"Name\":\"Longshot\",\"Alignment\":\"good\",\"Intelligence\":50.00,\"Strength\":10.00,\"Speed\":27,\"Durability\":10.00,\"Power\":71.00,\"Combat\":70.00,\"Total\":238.00}'\n",
      "316 b'{\"Name\":\"Joker\",\"Alignment\":\"bad\",\"Intelligence\":100.00,\"Strength\":10.00,\"Speed\":12,\"Durability\":56.00,\"Power\":22.00,\"Combat\":90.00,\"Total\":290.00}'\n",
      "281 b'{\"Name\":\"Hellstorm\",\"Alignment\":\"good\",\"Intelligence\":1.00,\"Strength\":1.00,\"Speed\":1,\"Durability\":1.00,\"Power\":0.00,\"Combat\":1.00,\"Total\":5.00}'\n",
      "360 b'{\"Name\":\"Man-Wolf\",\"Alignment\":\"good\",\"Intelligence\":63.00,\"Strength\":44.00,\"Speed\":35,\"Durability\":42.00,\"Power\":38.00,\"Combat\":70.00,\"Total\":292.00}'\n",
      "356 b'{\"Name\":\"Magog\",\"Alignment\":\"good\",\"Intelligence\":50.00,\"Strength\":48.00,\"Speed\":23,\"Durability\":64.00,\"Power\":66.00,\"Combat\":72.00,\"Total\":323.00}'\n",
      "361 b'{\"Name\":\"Mandarin\",\"Alignment\":\"bad\",\"Intelligence\":100.00,\"Strength\":28.00,\"Speed\":23,\"Durability\":28.00,\"Power\":99.00,\"Combat\":95.00,\"Total\":373.00}'\n",
      "369 b'{\"Name\":\"Maxima\",\"Alignment\":\"bad\",\"Intelligence\":75.00,\"Strength\":90.00,\"Speed\":35,\"Durability\":56.00,\"Power\":67.00,\"Combat\":75.00,\"Total\":398.00}'\n",
      "282 b'{\"Name\":\"Hercules\",\"Alignment\":\"good\",\"Intelligence\":63.00,\"Strength\":100.00,\"Speed\":46,\"Durability\":85.00,\"Power\":67.00,\"Combat\":100.00,\"Total\":461.00}'\n",
      "299 b'{\"Name\":\"Iron Fist\",\"Alignment\":\"good\",\"Intelligence\":75.00,\"Strength\":23.00,\"Speed\":35,\"Durability\":42.00,\"Power\":43.00,\"Combat\":100.00,\"Total\":318.00}'\n",
      "279 b'{\"Name\":\"Hellboy\",\"Alignment\":\"good\",\"Intelligence\":63.00,\"Strength\":53.00,\"Speed\":23,\"Durability\":85.00,\"Power\":30.00,\"Combat\":75.00,\"Total\":329.00}'\n",
      "300 b'{\"Name\":\"Iron Man\",\"Alignment\":\"good\",\"Intelligence\":100.00,\"Strength\":85.00,\"Speed\":58,\"Durability\":85.00,\"Power\":100.00,\"Combat\":64.00,\"Total\":492.00}'\n",
      "301 b'{\"Name\":\"Iron Monger\",\"Alignment\":\"bad\",\"Intelligence\":88.00,\"Strength\":63.00,\"Speed\":25,\"Durability\":90.00,\"Power\":57.00,\"Combat\":56.00,\"Total\":379.00}'\n",
      "371 b'{\"Name\":\"Medusa\",\"Alignment\":\"good\",\"Intelligence\":75.00,\"Strength\":34.00,\"Speed\":35,\"Durability\":70.00,\"Power\":35.00,\"Combat\":56.00,\"Total\":305.00}'\n",
      "373 b'{\"Name\":\"Mephisto\",\"Alignment\":\"bad\",\"Intelligence\":88.00,\"Strength\":85.00,\"Speed\":35,\"Durability\":95.00,\"Power\":100.00,\"Combat\":42.00,\"Total\":445.00}'\n"
     ]
    },
    {
     "name": "stdout",
     "output_type": "stream",
     "text": [
      "380 b'{\"Name\":\"Micro Lad\",\"Alignment\":\"good\",\"Intelligence\":38.00,\"Strength\":28.00,\"Speed\":27,\"Durability\":28.00,\"Power\":44.00,\"Combat\":32.00,\"Total\":197.00}'\n",
      "381 b'{\"Name\":\"Mimic\",\"Alignment\":\"good\",\"Intelligence\":63.00,\"Strength\":67.00,\"Speed\":47,\"Durability\":56.00,\"Power\":79.00,\"Combat\":42.00,\"Total\":354.00}'\n",
      "382 b'{\"Name\":\"Minna Murray\",\"Alignment\":\"good\",\"Intelligence\":1.00,\"Strength\":1.00,\"Speed\":1,\"Durability\":1.00,\"Power\":0.00,\"Combat\":1.00,\"Total\":5.00}'\n",
      "384 b'{\"Name\":\"Miss Martian\",\"Alignment\":\"good\",\"Intelligence\":63.00,\"Strength\":85.00,\"Speed\":58,\"Durability\":100.00,\"Power\":100.00,\"Combat\":45.00,\"Total\":451.00}'\n",
      "383 b'{\"Name\":\"Misfit\",\"Alignment\":\"good\",\"Intelligence\":63.00,\"Strength\":32.00,\"Speed\":23,\"Durability\":80.00,\"Power\":62.00,\"Combat\":42.00,\"Total\":302.00}'\n",
      "385 b'{\"Name\":\"Mister Fantastic\",\"Alignment\":\"good\",\"Intelligence\":100.00,\"Strength\":10.00,\"Speed\":18,\"Durability\":70.00,\"Power\":32.00,\"Combat\":64.00,\"Total\":294.00}'\n",
      "386 b'{\"Name\":\"Mister Freeze\",\"Alignment\":\"bad\",\"Intelligence\":75.00,\"Strength\":32.00,\"Speed\":12,\"Durability\":70.00,\"Power\":37.00,\"Combat\":28.00,\"Total\":254.00}'\n",
      "388 b'{\"Name\":\"Mister Sinister\",\"Alignment\":\"bad\",\"Intelligence\":1.00,\"Strength\":1.00,\"Speed\":1,\"Durability\":1.00,\"Power\":0.00,\"Combat\":1.00,\"Total\":5.00}'\n",
      "387 b'{\"Name\":\"Mister Mxyzptlk\",\"Alignment\":\"bad\",\"Intelligence\":113.00,\"Strength\":10.00,\"Speed\":12,\"Durability\":14.00,\"Power\":100.00,\"Combat\":28.00,\"Total\":277.00}'\n"
     ]
    },
    {
     "ename": "KeyboardInterrupt",
     "evalue": "",
     "output_type": "error",
     "traceback": [
      "\u001b[0;31m---------------------------------------------------------------------------\u001b[0m",
      "\u001b[0;31mKeyboardInterrupt\u001b[0m                         Traceback (most recent call last)",
      "\u001b[0;32m/tmp/ipykernel_22106/3045657707.py\u001b[0m in \u001b[0;36m<module>\u001b[0;34m\u001b[0m\n\u001b[1;32m      5\u001b[0m \u001b[0;34m\u001b[0m\u001b[0m\n\u001b[1;32m      6\u001b[0m \u001b[0;34m\u001b[0m\u001b[0m\n\u001b[0;32m----> 7\u001b[0;31m \u001b[0;32mfor\u001b[0m \u001b[0mmsg\u001b[0m \u001b[0;32min\u001b[0m \u001b[0mconsumer_heroes\u001b[0m\u001b[0;34m:\u001b[0m\u001b[0;34m\u001b[0m\u001b[0;34m\u001b[0m\u001b[0m\n\u001b[0m\u001b[1;32m      8\u001b[0m     \u001b[0mprint\u001b[0m\u001b[0;34m(\u001b[0m\u001b[0mmsg\u001b[0m\u001b[0;34m.\u001b[0m\u001b[0mkey\u001b[0m\u001b[0;34m.\u001b[0m\u001b[0mdecode\u001b[0m\u001b[0;34m(\u001b[0m\u001b[0;34m\"utf-8\"\u001b[0m\u001b[0;34m)\u001b[0m\u001b[0;34m,\u001b[0m \u001b[0mmsg\u001b[0m\u001b[0;34m.\u001b[0m\u001b[0mvalue\u001b[0m\u001b[0;34m)\u001b[0m\u001b[0;34m\u001b[0m\u001b[0;34m\u001b[0m\u001b[0m\n",
      "\u001b[0;32m/opt/conda/lib/python3.9/site-packages/kafka/consumer/group.py\u001b[0m in \u001b[0;36m__next__\u001b[0;34m(self)\u001b[0m\n\u001b[1;32m   1191\u001b[0m             \u001b[0;32mreturn\u001b[0m \u001b[0mself\u001b[0m\u001b[0;34m.\u001b[0m\u001b[0mnext_v1\u001b[0m\u001b[0;34m(\u001b[0m\u001b[0;34m)\u001b[0m\u001b[0;34m\u001b[0m\u001b[0;34m\u001b[0m\u001b[0m\n\u001b[1;32m   1192\u001b[0m         \u001b[0;32melse\u001b[0m\u001b[0;34m:\u001b[0m\u001b[0;34m\u001b[0m\u001b[0;34m\u001b[0m\u001b[0m\n\u001b[0;32m-> 1193\u001b[0;31m             \u001b[0;32mreturn\u001b[0m \u001b[0mself\u001b[0m\u001b[0;34m.\u001b[0m\u001b[0mnext_v2\u001b[0m\u001b[0;34m(\u001b[0m\u001b[0;34m)\u001b[0m\u001b[0;34m\u001b[0m\u001b[0;34m\u001b[0m\u001b[0m\n\u001b[0m\u001b[1;32m   1194\u001b[0m \u001b[0;34m\u001b[0m\u001b[0m\n\u001b[1;32m   1195\u001b[0m     \u001b[0;32mdef\u001b[0m \u001b[0mnext_v2\u001b[0m\u001b[0;34m(\u001b[0m\u001b[0mself\u001b[0m\u001b[0;34m)\u001b[0m\u001b[0;34m:\u001b[0m\u001b[0;34m\u001b[0m\u001b[0;34m\u001b[0m\u001b[0m\n",
      "\u001b[0;32m/opt/conda/lib/python3.9/site-packages/kafka/consumer/group.py\u001b[0m in \u001b[0;36mnext_v2\u001b[0;34m(self)\u001b[0m\n\u001b[1;32m   1199\u001b[0m                 \u001b[0mself\u001b[0m\u001b[0;34m.\u001b[0m\u001b[0m_iterator\u001b[0m \u001b[0;34m=\u001b[0m \u001b[0mself\u001b[0m\u001b[0;34m.\u001b[0m\u001b[0m_message_generator_v2\u001b[0m\u001b[0;34m(\u001b[0m\u001b[0;34m)\u001b[0m\u001b[0;34m\u001b[0m\u001b[0;34m\u001b[0m\u001b[0m\n\u001b[1;32m   1200\u001b[0m             \u001b[0;32mtry\u001b[0m\u001b[0;34m:\u001b[0m\u001b[0;34m\u001b[0m\u001b[0;34m\u001b[0m\u001b[0m\n\u001b[0;32m-> 1201\u001b[0;31m                 \u001b[0;32mreturn\u001b[0m \u001b[0mnext\u001b[0m\u001b[0;34m(\u001b[0m\u001b[0mself\u001b[0m\u001b[0;34m.\u001b[0m\u001b[0m_iterator\u001b[0m\u001b[0;34m)\u001b[0m\u001b[0;34m\u001b[0m\u001b[0;34m\u001b[0m\u001b[0m\n\u001b[0m\u001b[1;32m   1202\u001b[0m             \u001b[0;32mexcept\u001b[0m \u001b[0mStopIteration\u001b[0m\u001b[0;34m:\u001b[0m\u001b[0;34m\u001b[0m\u001b[0;34m\u001b[0m\u001b[0m\n\u001b[1;32m   1203\u001b[0m                 \u001b[0mself\u001b[0m\u001b[0;34m.\u001b[0m\u001b[0m_iterator\u001b[0m \u001b[0;34m=\u001b[0m \u001b[0;32mNone\u001b[0m\u001b[0;34m\u001b[0m\u001b[0;34m\u001b[0m\u001b[0m\n",
      "\u001b[0;32m/opt/conda/lib/python3.9/site-packages/kafka/consumer/group.py\u001b[0m in \u001b[0;36m_message_generator_v2\u001b[0;34m(self)\u001b[0m\n\u001b[1;32m   1114\u001b[0m     \u001b[0;32mdef\u001b[0m \u001b[0m_message_generator_v2\u001b[0m\u001b[0;34m(\u001b[0m\u001b[0mself\u001b[0m\u001b[0;34m)\u001b[0m\u001b[0;34m:\u001b[0m\u001b[0;34m\u001b[0m\u001b[0;34m\u001b[0m\u001b[0m\n\u001b[1;32m   1115\u001b[0m         \u001b[0mtimeout_ms\u001b[0m \u001b[0;34m=\u001b[0m \u001b[0;36m1000\u001b[0m \u001b[0;34m*\u001b[0m \u001b[0;34m(\u001b[0m\u001b[0mself\u001b[0m\u001b[0;34m.\u001b[0m\u001b[0m_consumer_timeout\u001b[0m \u001b[0;34m-\u001b[0m \u001b[0mtime\u001b[0m\u001b[0;34m.\u001b[0m\u001b[0mtime\u001b[0m\u001b[0;34m(\u001b[0m\u001b[0;34m)\u001b[0m\u001b[0;34m)\u001b[0m\u001b[0;34m\u001b[0m\u001b[0;34m\u001b[0m\u001b[0m\n\u001b[0;32m-> 1116\u001b[0;31m         \u001b[0mrecord_map\u001b[0m \u001b[0;34m=\u001b[0m \u001b[0mself\u001b[0m\u001b[0;34m.\u001b[0m\u001b[0mpoll\u001b[0m\u001b[0;34m(\u001b[0m\u001b[0mtimeout_ms\u001b[0m\u001b[0;34m=\u001b[0m\u001b[0mtimeout_ms\u001b[0m\u001b[0;34m,\u001b[0m \u001b[0mupdate_offsets\u001b[0m\u001b[0;34m=\u001b[0m\u001b[0;32mFalse\u001b[0m\u001b[0;34m)\u001b[0m\u001b[0;34m\u001b[0m\u001b[0;34m\u001b[0m\u001b[0m\n\u001b[0m\u001b[1;32m   1117\u001b[0m         \u001b[0;32mfor\u001b[0m \u001b[0mtp\u001b[0m\u001b[0;34m,\u001b[0m \u001b[0mrecords\u001b[0m \u001b[0;32min\u001b[0m \u001b[0msix\u001b[0m\u001b[0;34m.\u001b[0m\u001b[0miteritems\u001b[0m\u001b[0;34m(\u001b[0m\u001b[0mrecord_map\u001b[0m\u001b[0;34m)\u001b[0m\u001b[0;34m:\u001b[0m\u001b[0;34m\u001b[0m\u001b[0;34m\u001b[0m\u001b[0m\n\u001b[1;32m   1118\u001b[0m             \u001b[0;31m# Generators are stateful, and it is possible that the tp / records\u001b[0m\u001b[0;34m\u001b[0m\u001b[0;34m\u001b[0m\u001b[0m\n",
      "\u001b[0;32m/opt/conda/lib/python3.9/site-packages/kafka/consumer/group.py\u001b[0m in \u001b[0;36mpoll\u001b[0;34m(self, timeout_ms, max_records, update_offsets)\u001b[0m\n\u001b[1;32m    653\u001b[0m         \u001b[0mremaining\u001b[0m \u001b[0;34m=\u001b[0m \u001b[0mtimeout_ms\u001b[0m\u001b[0;34m\u001b[0m\u001b[0;34m\u001b[0m\u001b[0m\n\u001b[1;32m    654\u001b[0m         \u001b[0;32mwhile\u001b[0m \u001b[0;32mTrue\u001b[0m\u001b[0;34m:\u001b[0m\u001b[0;34m\u001b[0m\u001b[0;34m\u001b[0m\u001b[0m\n\u001b[0;32m--> 655\u001b[0;31m             \u001b[0mrecords\u001b[0m \u001b[0;34m=\u001b[0m \u001b[0mself\u001b[0m\u001b[0;34m.\u001b[0m\u001b[0m_poll_once\u001b[0m\u001b[0;34m(\u001b[0m\u001b[0mremaining\u001b[0m\u001b[0;34m,\u001b[0m \u001b[0mmax_records\u001b[0m\u001b[0;34m,\u001b[0m \u001b[0mupdate_offsets\u001b[0m\u001b[0;34m=\u001b[0m\u001b[0mupdate_offsets\u001b[0m\u001b[0;34m)\u001b[0m\u001b[0;34m\u001b[0m\u001b[0;34m\u001b[0m\u001b[0m\n\u001b[0m\u001b[1;32m    656\u001b[0m             \u001b[0;32mif\u001b[0m \u001b[0mrecords\u001b[0m\u001b[0;34m:\u001b[0m\u001b[0;34m\u001b[0m\u001b[0;34m\u001b[0m\u001b[0m\n\u001b[1;32m    657\u001b[0m                 \u001b[0;32mreturn\u001b[0m \u001b[0mrecords\u001b[0m\u001b[0;34m\u001b[0m\u001b[0;34m\u001b[0m\u001b[0m\n",
      "\u001b[0;32m/opt/conda/lib/python3.9/site-packages/kafka/consumer/group.py\u001b[0m in \u001b[0;36m_poll_once\u001b[0;34m(self, timeout_ms, max_records, update_offsets)\u001b[0m\n\u001b[1;32m    700\u001b[0m \u001b[0;34m\u001b[0m\u001b[0m\n\u001b[1;32m    701\u001b[0m         \u001b[0mtimeout_ms\u001b[0m \u001b[0;34m=\u001b[0m \u001b[0mmin\u001b[0m\u001b[0;34m(\u001b[0m\u001b[0mtimeout_ms\u001b[0m\u001b[0;34m,\u001b[0m \u001b[0mself\u001b[0m\u001b[0;34m.\u001b[0m\u001b[0m_coordinator\u001b[0m\u001b[0;34m.\u001b[0m\u001b[0mtime_to_next_poll\u001b[0m\u001b[0;34m(\u001b[0m\u001b[0;34m)\u001b[0m \u001b[0;34m*\u001b[0m \u001b[0;36m1000\u001b[0m\u001b[0;34m)\u001b[0m\u001b[0;34m\u001b[0m\u001b[0;34m\u001b[0m\u001b[0m\n\u001b[0;32m--> 702\u001b[0;31m         \u001b[0mself\u001b[0m\u001b[0;34m.\u001b[0m\u001b[0m_client\u001b[0m\u001b[0;34m.\u001b[0m\u001b[0mpoll\u001b[0m\u001b[0;34m(\u001b[0m\u001b[0mtimeout_ms\u001b[0m\u001b[0;34m=\u001b[0m\u001b[0mtimeout_ms\u001b[0m\u001b[0;34m)\u001b[0m\u001b[0;34m\u001b[0m\u001b[0;34m\u001b[0m\u001b[0m\n\u001b[0m\u001b[1;32m    703\u001b[0m         \u001b[0;31m# after the long poll, we should check whether the group needs to rebalance\u001b[0m\u001b[0;34m\u001b[0m\u001b[0;34m\u001b[0m\u001b[0m\n\u001b[1;32m    704\u001b[0m         \u001b[0;31m# prior to returning data so that the group can stabilize faster\u001b[0m\u001b[0;34m\u001b[0m\u001b[0;34m\u001b[0m\u001b[0m\n",
      "\u001b[0;32m/opt/conda/lib/python3.9/site-packages/kafka/client_async.py\u001b[0m in \u001b[0;36mpoll\u001b[0;34m(self, timeout_ms, future)\u001b[0m\n\u001b[1;32m    600\u001b[0m                     \u001b[0mtimeout\u001b[0m \u001b[0;34m=\u001b[0m \u001b[0mmax\u001b[0m\u001b[0;34m(\u001b[0m\u001b[0;36m0\u001b[0m\u001b[0;34m,\u001b[0m \u001b[0mtimeout\u001b[0m\u001b[0;34m)\u001b[0m  \u001b[0;31m# avoid negative timeouts\u001b[0m\u001b[0;34m\u001b[0m\u001b[0;34m\u001b[0m\u001b[0m\n\u001b[1;32m    601\u001b[0m \u001b[0;34m\u001b[0m\u001b[0m\n\u001b[0;32m--> 602\u001b[0;31m                 \u001b[0mself\u001b[0m\u001b[0;34m.\u001b[0m\u001b[0m_poll\u001b[0m\u001b[0;34m(\u001b[0m\u001b[0mtimeout\u001b[0m \u001b[0;34m/\u001b[0m \u001b[0;36m1000\u001b[0m\u001b[0;34m)\u001b[0m\u001b[0;34m\u001b[0m\u001b[0;34m\u001b[0m\u001b[0m\n\u001b[0m\u001b[1;32m    603\u001b[0m \u001b[0;34m\u001b[0m\u001b[0m\n\u001b[1;32m    604\u001b[0m             \u001b[0;31m# called without the lock to avoid deadlock potential\u001b[0m\u001b[0;34m\u001b[0m\u001b[0;34m\u001b[0m\u001b[0m\n",
      "\u001b[0;32m/opt/conda/lib/python3.9/site-packages/kafka/client_async.py\u001b[0m in \u001b[0;36m_poll\u001b[0;34m(self, timeout)\u001b[0m\n\u001b[1;32m    632\u001b[0m \u001b[0;34m\u001b[0m\u001b[0m\n\u001b[1;32m    633\u001b[0m         \u001b[0mstart_select\u001b[0m \u001b[0;34m=\u001b[0m \u001b[0mtime\u001b[0m\u001b[0;34m.\u001b[0m\u001b[0mtime\u001b[0m\u001b[0;34m(\u001b[0m\u001b[0;34m)\u001b[0m\u001b[0;34m\u001b[0m\u001b[0;34m\u001b[0m\u001b[0m\n\u001b[0;32m--> 634\u001b[0;31m         \u001b[0mready\u001b[0m \u001b[0;34m=\u001b[0m \u001b[0mself\u001b[0m\u001b[0;34m.\u001b[0m\u001b[0m_selector\u001b[0m\u001b[0;34m.\u001b[0m\u001b[0mselect\u001b[0m\u001b[0;34m(\u001b[0m\u001b[0mtimeout\u001b[0m\u001b[0;34m)\u001b[0m\u001b[0;34m\u001b[0m\u001b[0;34m\u001b[0m\u001b[0m\n\u001b[0m\u001b[1;32m    635\u001b[0m         \u001b[0mend_select\u001b[0m \u001b[0;34m=\u001b[0m \u001b[0mtime\u001b[0m\u001b[0;34m.\u001b[0m\u001b[0mtime\u001b[0m\u001b[0;34m(\u001b[0m\u001b[0;34m)\u001b[0m\u001b[0;34m\u001b[0m\u001b[0;34m\u001b[0m\u001b[0m\n\u001b[1;32m    636\u001b[0m         \u001b[0;32mif\u001b[0m \u001b[0mself\u001b[0m\u001b[0;34m.\u001b[0m\u001b[0m_sensors\u001b[0m\u001b[0;34m:\u001b[0m\u001b[0;34m\u001b[0m\u001b[0;34m\u001b[0m\u001b[0m\n",
      "\u001b[0;32m/opt/conda/lib/python3.9/selectors.py\u001b[0m in \u001b[0;36mselect\u001b[0;34m(self, timeout)\u001b[0m\n\u001b[1;32m    467\u001b[0m             \u001b[0mready\u001b[0m \u001b[0;34m=\u001b[0m \u001b[0;34m[\u001b[0m\u001b[0;34m]\u001b[0m\u001b[0;34m\u001b[0m\u001b[0;34m\u001b[0m\u001b[0m\n\u001b[1;32m    468\u001b[0m             \u001b[0;32mtry\u001b[0m\u001b[0;34m:\u001b[0m\u001b[0;34m\u001b[0m\u001b[0;34m\u001b[0m\u001b[0m\n\u001b[0;32m--> 469\u001b[0;31m                 \u001b[0mfd_event_list\u001b[0m \u001b[0;34m=\u001b[0m \u001b[0mself\u001b[0m\u001b[0;34m.\u001b[0m\u001b[0m_selector\u001b[0m\u001b[0;34m.\u001b[0m\u001b[0mpoll\u001b[0m\u001b[0;34m(\u001b[0m\u001b[0mtimeout\u001b[0m\u001b[0;34m,\u001b[0m \u001b[0mmax_ev\u001b[0m\u001b[0;34m)\u001b[0m\u001b[0;34m\u001b[0m\u001b[0;34m\u001b[0m\u001b[0m\n\u001b[0m\u001b[1;32m    470\u001b[0m             \u001b[0;32mexcept\u001b[0m \u001b[0mInterruptedError\u001b[0m\u001b[0;34m:\u001b[0m\u001b[0;34m\u001b[0m\u001b[0;34m\u001b[0m\u001b[0m\n\u001b[1;32m    471\u001b[0m                 \u001b[0;32mreturn\u001b[0m \u001b[0mready\u001b[0m\u001b[0;34m\u001b[0m\u001b[0;34m\u001b[0m\u001b[0m\n",
      "\u001b[0;31mKeyboardInterrupt\u001b[0m: "
     ]
    }
   ],
   "source": [
    "consumer_heroes = KafkaConsumer(heroes_topic, \n",
    "                                group_id='heroes-group',\n",
    "                                auto_offset_reset='earliest',\n",
    "                                bootstrap_servers=[server])\n",
    "\n",
    "\n",
    "for msg in consumer_heroes:\n",
    "    print(msg.key.decode(\"utf-8\"), msg.value)"
   ]
  },
  {
   "cell_type": "code",
   "execution_count": null,
   "metadata": {},
   "outputs": [],
   "source": []
  }
 ],
 "metadata": {
  "kernelspec": {
   "display_name": "Python 3 (ipykernel)",
   "language": "python",
   "name": "python3"
  },
  "language_info": {
   "codemirror_mode": {
    "name": "ipython",
    "version": 3
   },
   "file_extension": ".py",
   "mimetype": "text/x-python",
   "name": "python",
   "nbconvert_exporter": "python",
   "pygments_lexer": "ipython3",
   "version": "3.9.7"
  }
 },
 "nbformat": 4,
 "nbformat_minor": 2
}
