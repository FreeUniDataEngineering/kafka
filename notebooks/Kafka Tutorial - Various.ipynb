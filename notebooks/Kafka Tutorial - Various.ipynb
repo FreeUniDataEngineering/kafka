{
 "cells": [
  {
   "cell_type": "code",
   "execution_count": 1,
   "metadata": {},
   "outputs": [
    {
     "name": "stdout",
     "output_type": "stream",
     "text": [
      "Collecting kafka-python\n",
      "  Downloading kafka_python-2.0.2-py2.py3-none-any.whl (246 kB)\n",
      "     |████████████████████████████████| 246 kB 845 kB/s            \n",
      "\u001b[?25hInstalling collected packages: kafka-python\n",
      "Successfully installed kafka-python-2.0.2\n"
     ]
    }
   ],
   "source": [
    "!pip install kafka-python"
   ]
  },
  {
   "cell_type": "code",
   "execution_count": 1,
   "metadata": {},
   "outputs": [],
   "source": [
    "from kafka import KafkaConsumer, KafkaProducer\n",
    "import json\n",
    "import uuid\n",
    "\n",
    "\n",
    "def publish_message(producer_instance, topic_name, key, value):\n",
    "    try:\n",
    "        key_bytes = bytes(key, encoding='utf-8')\n",
    "        value_bytes = bytes(value, encoding='utf-8')\n",
    "        producer_instance.send(topic_name, key=key_bytes, value=value_bytes)\n",
    "        producer_instance.flush()\n",
    "        print('Message published successfully.')\n",
    "    except Exception as ex:\n",
    "        print('Exception in publishing message')\n",
    "        print(str(ex))\n",
    "\n",
    "\n",
    "def connect_kafka_producer(server):\n",
    "    _producer = None\n",
    "    try:\n",
    "        _producer = KafkaProducer(bootstrap_servers=[server], api_version=(0, 10))\n",
    "    except Exception as ex:\n",
    "        print('Exception while connecting Kafka')\n",
    "        print(str(ex))\n",
    "    finally:\n",
    "        return _producer"
   ]
  },
  {
   "cell_type": "code",
   "execution_count": 2,
   "metadata": {},
   "outputs": [],
   "source": [
    "server = 'broker:9093'\n",
    "\n",
    "heroes_topic = 'heroes'"
   ]
  },
  {
   "cell_type": "code",
   "execution_count": 3,
   "metadata": {},
   "outputs": [
    {
     "data": {
      "text/plain": [
       "{'first_topic', 'heroes', 'intro'}"
      ]
     },
     "execution_count": 3,
     "metadata": {},
     "output_type": "execute_result"
    }
   ],
   "source": [
    "''' ტოპიკების სია '''\n",
    "c = KafkaConsumer(heroes_topic, bootstrap_servers=[server], group_id='various')\n",
    "c.topics()\n"
   ]
  },
  {
   "cell_type": "code",
   "execution_count": 4,
   "metadata": {},
   "outputs": [
    {
     "data": {
      "text/plain": [
       "{0, 1, 2}"
      ]
     },
     "execution_count": 4,
     "metadata": {},
     "output_type": "execute_result"
    }
   ],
   "source": [
    "c.partitions_for_topic('heroes')"
   ]
  },
  {
   "cell_type": "code",
   "execution_count": 6,
   "metadata": {},
   "outputs": [],
   "source": [
    "from kafka.admin import KafkaAdminClient, NewTopic\n",
    "\n",
    "admin_client = KafkaAdminClient(\n",
    "    bootstrap_servers=server, \n",
    "    client_id='Franz'\n",
    ")"
   ]
  },
  {
   "cell_type": "code",
   "execution_count": 7,
   "metadata": {
    "scrolled": true
   },
   "outputs": [
    {
     "data": {
      "text/plain": [
       "{}"
      ]
     },
     "execution_count": 7,
     "metadata": {},
     "output_type": "execute_result"
    }
   ],
   "source": [
    "admin_client.list_consumer_group_offsets(group_id='heroes')"
   ]
  },
  {
   "cell_type": "code",
   "execution_count": 8,
   "metadata": {
    "scrolled": true
   },
   "outputs": [],
   "source": [
    "from kafka.structs import TopicPartition\n",
    "\n",
    "partition = TopicPartition(topic='heroes', partition=1)\n",
    "\n",
    "c.committed(partition=partition)"
   ]
  },
  {
   "cell_type": "code",
   "execution_count": 9,
   "metadata": {},
   "outputs": [
    {
     "data": {
      "text/plain": [
       "{TopicPartition(topic='heroes', partition=1): 72}"
      ]
     },
     "execution_count": 9,
     "metadata": {},
     "output_type": "execute_result"
    }
   ],
   "source": [
    "c.end_offsets([partition])"
   ]
  },
  {
   "cell_type": "code",
   "execution_count": 10,
   "metadata": {},
   "outputs": [
    {
     "data": {
      "text/plain": [
       "ConsumerRecord(topic='heroes', partition=1, offset=77, timestamp=1640884437783, timestamp_type=0, key=b'541', value=b'{\"Name\":\"Tempest\",\"Alignment\":\"good\",\"Intelligence\":38.00,\"Strength\":10.00,\"Speed\":45,\"Durability\":28.00,\"Power\":62.00,\"Combat\":60.00,\"Total\":243.00}', headers=[], checksum=None, serialized_key_size=3, serialized_value_size=149, serialized_header_size=-1)"
      ]
     },
     "execution_count": 10,
     "metadata": {},
     "output_type": "execute_result"
    }
   ],
   "source": [
    "new_cons = KafkaConsumer(bootstrap_servers=[server], group_id='any')\n",
    "\n",
    "new_cons.assign([partition])\n",
    "\n",
    "msg = next(new_cons)\n",
    "\n",
    "msg"
   ]
  },
  {
   "cell_type": "code",
   "execution_count": 11,
   "metadata": {},
   "outputs": [
    {
     "data": {
      "text/plain": [
       "78"
      ]
     },
     "execution_count": 11,
     "metadata": {},
     "output_type": "execute_result"
    }
   ],
   "source": [
    "new_cons.position(partition)"
   ]
  },
  {
   "cell_type": "code",
   "execution_count": 46,
   "metadata": {},
   "outputs": [
    {
     "data": {
      "text/plain": [
       "{TopicPartition(topic='heroes', partition=1): [ConsumerRecord(topic='heroes', partition=1, offset=0, timestamp=1640865954813, timestamp_type=0, key=b'24', value=b'{\"Name\":\"Annihilus\",\"Alignment\":\"bad\",\"Intelligence\":75.00,\"Strength\":80.00,\"Speed\":47,\"Durability\":56.00,\"Power\":59.00,\"Combat\":64.00,\"Total\":381.00}', headers=[], checksum=None, serialized_key_size=2, serialized_value_size=150, serialized_header_size=-1),\n",
       "  ConsumerRecord(topic='heroes', partition=1, offset=1, timestamp=1640865954828, timestamp_type=0, key=b'51', value=b'{\"Name\":\"Azrael\",\"Alignment\":\"good\",\"Intelligence\":63.00,\"Strength\":18.00,\"Speed\":17,\"Durability\":20.00,\"Power\":35.00,\"Combat\":80.00,\"Total\":233.00}', headers=[], checksum=None, serialized_key_size=2, serialized_value_size=148, serialized_header_size=-1),\n",
       "  ConsumerRecord(topic='heroes', partition=1, offset=2, timestamp=1640865954916, timestamp_type=0, key=b'10', value=b'{\"Name\":\"Agent Bob\",\"Alignment\":\"good\",\"Intelligence\":10.00,\"Strength\":8.00,\"Speed\":13,\"Durability\":5.00,\"Power\":5.00,\"Combat\":20.00,\"Total\":61.00}', headers=[], checksum=None, serialized_key_size=2, serialized_value_size=147, serialized_header_size=-1),\n",
       "  ConsumerRecord(topic='heroes', partition=1, offset=3, timestamp=1640865954939, timestamp_type=0, key=b'31', value=b'{\"Name\":\"Aquababy\",\"Alignment\":\"good\",\"Intelligence\":10.00,\"Strength\":16.00,\"Speed\":12,\"Durability\":14.00,\"Power\":37.00,\"Combat\":14.00,\"Total\":103.00}', headers=[], checksum=None, serialized_key_size=2, serialized_value_size=150, serialized_header_size=-1),\n",
       "  ConsumerRecord(topic='heroes', partition=1, offset=4, timestamp=1640865954962, timestamp_type=0, key=b'12', value=b'{\"Name\":\"Air-Walker\",\"Alignment\":\"bad\",\"Intelligence\":50.00,\"Strength\":85.00,\"Speed\":100,\"Durability\":85.00,\"Power\":100.00,\"Combat\":40.00,\"Total\":460.00}', headers=[], checksum=None, serialized_key_size=2, serialized_value_size=153, serialized_header_size=-1),\n",
       "  ConsumerRecord(topic='heroes', partition=1, offset=5, timestamp=1640865954976, timestamp_type=0, key=b'20', value=b'{\"Name\":\"Angel\",\"Alignment\":\"good\",\"Intelligence\":63.00,\"Strength\":13.00,\"Speed\":46,\"Durability\":64.00,\"Power\":17.00,\"Combat\":42.00,\"Total\":245.00}', headers=[], checksum=None, serialized_key_size=2, serialized_value_size=147, serialized_header_size=-1),\n",
       "  ConsumerRecord(topic='heroes', partition=1, offset=6, timestamp=1640865954990, timestamp_type=0, key=b'46', value=b'{\"Name\":\"Atom II\",\"Alignment\":\"good\",\"Intelligence\":1.00,\"Strength\":1.00,\"Speed\":1,\"Durability\":1.00,\"Power\":0.00,\"Combat\":1.00,\"Total\":5.00}', headers=[], checksum=None, serialized_key_size=2, serialized_value_size=141, serialized_header_size=-1),\n",
       "  ConsumerRecord(topic='heroes', partition=1, offset=7, timestamp=1640865954994, timestamp_type=0, key=b'4', value=b'{\"Name\":\"Abin Sur\",\"Alignment\":\"good\",\"Intelligence\":50.00,\"Strength\":90.00,\"Speed\":53,\"Durability\":64.00,\"Power\":84.00,\"Combat\":65.00,\"Total\":406.00}', headers=[], checksum=None, serialized_key_size=1, serialized_value_size=150, serialized_header_size=-1),\n",
       "  ConsumerRecord(topic='heroes', partition=1, offset=8, timestamp=1640865955048, timestamp_type=0, key=b'6', value=b'{\"Name\":\"Abraxas\",\"Alignment\":\"bad\",\"Intelligence\":88.00,\"Strength\":100.00,\"Speed\":83,\"Durability\":99.00,\"Power\":100.00,\"Combat\":56.00,\"Total\":526.00}', headers=[], checksum=None, serialized_key_size=1, serialized_value_size=150, serialized_header_size=-1),\n",
       "  ConsumerRecord(topic='heroes', partition=1, offset=9, timestamp=1640865955053, timestamp_type=0, key=b'13', value=b'{\"Name\":\"Alan Scott\",\"Alignment\":\"good\",\"Intelligence\":63.00,\"Strength\":80.00,\"Speed\":23,\"Durability\":90.00,\"Power\":98.00,\"Combat\":32.00,\"Total\":386.00}', headers=[], checksum=None, serialized_key_size=2, serialized_value_size=152, serialized_header_size=-1),\n",
       "  ConsumerRecord(topic='heroes', partition=1, offset=10, timestamp=1640865955067, timestamp_type=0, key=b'38', value=b'{\"Name\":\"Ariel\",\"Alignment\":\"good\",\"Intelligence\":50.00,\"Strength\":10.00,\"Speed\":12,\"Durability\":14.00,\"Power\":72.00,\"Combat\":28.00,\"Total\":186.00}', headers=[], checksum=None, serialized_key_size=2, serialized_value_size=147, serialized_header_size=-1),\n",
       "  ConsumerRecord(topic='heroes', partition=1, offset=11, timestamp=1640865955097, timestamp_type=0, key=b'39', value=b'{\"Name\":\"Armor\",\"Alignment\":\"good\",\"Intelligence\":50.00,\"Strength\":63.00,\"Speed\":12,\"Durability\":80.00,\"Power\":55.00,\"Combat\":54.00,\"Total\":314.00}', headers=[], checksum=None, serialized_key_size=2, serialized_value_size=147, serialized_header_size=-1),\n",
       "  ConsumerRecord(topic='heroes', partition=1, offset=12, timestamp=1640865955139, timestamp_type=0, key=b'42', value=b'{\"Name\":\"Atlas\",\"Alignment\":\"good\",\"Intelligence\":50.00,\"Strength\":80.00,\"Speed\":23,\"Durability\":99.00,\"Power\":69.00,\"Combat\":42.00,\"Total\":363.00}', headers=[], checksum=None, serialized_key_size=2, serialized_value_size=147, serialized_header_size=-1),\n",
       "  ConsumerRecord(topic='heroes', partition=1, offset=13, timestamp=1640865955143, timestamp_type=0, key=b'26', value=b'{\"Name\":\"Ant-Man II\",\"Alignment\":\"good\",\"Intelligence\":63.00,\"Strength\":10.00,\"Speed\":23,\"Durability\":28.00,\"Power\":32.00,\"Combat\":28.00,\"Total\":184.00}', headers=[], checksum=None, serialized_key_size=2, serialized_value_size=152, serialized_header_size=-1),\n",
       "  ConsumerRecord(topic='heroes', partition=1, offset=14, timestamp=1640865955231, timestamp_type=0, key=b'14', value=b'{\"Name\":\"Alex Woolsly\",\"Alignment\":\"good\",\"Intelligence\":1.00,\"Strength\":1.00,\"Speed\":1,\"Durability\":1.00,\"Power\":0.00,\"Combat\":1.00,\"Total\":5.00}', headers=[], checksum=None, serialized_key_size=2, serialized_value_size=146, serialized_header_size=-1),\n",
       "  ConsumerRecord(topic='heroes', partition=1, offset=15, timestamp=1640865955280, timestamp_type=0, key=b'18', value=b'{\"Name\":\"Ammo\",\"Alignment\":\"bad\",\"Intelligence\":1.00,\"Strength\":1.00,\"Speed\":1,\"Durability\":1.00,\"Power\":0.00,\"Combat\":1.00,\"Total\":5.00}', headers=[], checksum=None, serialized_key_size=2, serialized_value_size=137, serialized_header_size=-1),\n",
       "  ConsumerRecord(topic='heroes', partition=1, offset=16, timestamp=1640865955297, timestamp_type=0, key=b'19', value=b'{\"Name\":\"Ando Masahashi\",\"Alignment\":\"good\",\"Intelligence\":1.00,\"Strength\":1.00,\"Speed\":1,\"Durability\":1.00,\"Power\":0.00,\"Combat\":1.00,\"Total\":5.00}', headers=[], checksum=None, serialized_key_size=2, serialized_value_size=148, serialized_header_size=-1),\n",
       "  ConsumerRecord(topic='heroes', partition=1, offset=17, timestamp=1640865955304, timestamp_type=0, key=b'53', value=b'{\"Name\":\"Bane\",\"Alignment\":\"bad\",\"Intelligence\":88.00,\"Strength\":53.00,\"Speed\":23,\"Durability\":56.00,\"Power\":51.00,\"Combat\":95.00,\"Total\":366.00}', headers=[], checksum=None, serialized_key_size=2, serialized_value_size=145, serialized_header_size=-1),\n",
       "  ConsumerRecord(topic='heroes', partition=1, offset=18, timestamp=1640865955326, timestamp_type=0, key=b'35', value=b'{\"Name\":\"Archangel\",\"Alignment\":\"good\",\"Intelligence\":63.00,\"Strength\":13.00,\"Speed\":58,\"Durability\":64.00,\"Power\":28.00,\"Combat\":42.00,\"Total\":268.00}', headers=[], checksum=None, serialized_key_size=2, serialized_value_size=151, serialized_header_size=-1),\n",
       "  ConsumerRecord(topic='heroes', partition=1, offset=19, timestamp=1640865966881, timestamp_type=0, key=b'58', value=b'{\"Name\":\"Batgirl III\",\"Alignment\":\"good\",\"Intelligence\":1.00,\"Strength\":1.00,\"Speed\":1,\"Durability\":1.00,\"Power\":0.00,\"Combat\":1.00,\"Total\":5.00}', headers=[], checksum=None, serialized_key_size=2, serialized_value_size=145, serialized_header_size=-1),\n",
       "  ConsumerRecord(topic='heroes', partition=1, offset=20, timestamp=1640865987239, timestamp_type=0, key=b'62', value=b'{\"Name\":\"Batman\",\"Alignment\":\"good\",\"Intelligence\":100.00,\"Strength\":18.00,\"Speed\":27,\"Durability\":42.00,\"Power\":37.00,\"Combat\":100.00,\"Total\":324.00}', headers=[], checksum=None, serialized_key_size=2, serialized_value_size=150, serialized_header_size=-1),\n",
       "  ConsumerRecord(topic='heroes', partition=1, offset=21, timestamp=1640866001822, timestamp_type=0, key=b'65', value=b'{\"Name\":\"Beak\",\"Alignment\":\"good\",\"Intelligence\":1.00,\"Strength\":1.00,\"Speed\":1,\"Durability\":1.00,\"Power\":0.00,\"Combat\":1.00,\"Total\":5.00}', headers=[], checksum=None, serialized_key_size=2, serialized_value_size=138, serialized_header_size=-1),\n",
       "  ConsumerRecord(topic='heroes', partition=1, offset=22, timestamp=1640866007104, timestamp_type=0, key=b'66', value=b'{\"Name\":\"Beast\",\"Alignment\":\"good\",\"Intelligence\":88.00,\"Strength\":48.00,\"Speed\":35,\"Durability\":56.00,\"Power\":35.00,\"Combat\":84.00,\"Total\":346.00}', headers=[], checksum=None, serialized_key_size=2, serialized_value_size=147, serialized_header_size=-1),\n",
       "  ConsumerRecord(topic='heroes', partition=1, offset=23, timestamp=1640866012032, timestamp_type=0, key=b'67', value=b'{\"Name\":\"Beast Boy\",\"Alignment\":\"good\",\"Intelligence\":50.00,\"Strength\":28.00,\"Speed\":50,\"Durability\":70.00,\"Power\":79.00,\"Combat\":40.00,\"Total\":317.00}', headers=[], checksum=None, serialized_key_size=2, serialized_value_size=151, serialized_header_size=-1),\n",
       "  ConsumerRecord(topic='heroes', partition=1, offset=24, timestamp=1640866017477, timestamp_type=0, key=b'68', value=b'{\"Name\":\"Beetle\",\"Alignment\":\"bad\",\"Intelligence\":1.00,\"Strength\":1.00,\"Speed\":1,\"Durability\":1.00,\"Power\":0.00,\"Combat\":1.00,\"Total\":5.00}', headers=[], checksum=None, serialized_key_size=2, serialized_value_size=139, serialized_header_size=-1),\n",
       "  ConsumerRecord(topic='heroes', partition=1, offset=25, timestamp=1640866052121, timestamp_type=0, key=b'75', value=b'{\"Name\":\"Bill Harken\",\"Alignment\":\"good\",\"Intelligence\":63.00,\"Strength\":36.00,\"Speed\":33,\"Durability\":60.00,\"Power\":23.00,\"Combat\":40.00,\"Total\":255.00}', headers=[], checksum=None, serialized_key_size=2, serialized_value_size=153, serialized_header_size=-1),\n",
       "  ConsumerRecord(topic='heroes', partition=1, offset=26, timestamp=1640866062479, timestamp_type=0, key=b'77', value=b'{\"Name\":\"Binary\",\"Alignment\":\"good\",\"Intelligence\":1.00,\"Strength\":1.00,\"Speed\":1,\"Durability\":1.00,\"Power\":0.00,\"Combat\":1.00,\"Total\":5.00}', headers=[], checksum=None, serialized_key_size=2, serialized_value_size=140, serialized_header_size=-1),\n",
       "  ConsumerRecord(topic='heroes', partition=1, offset=27, timestamp=1640866082437, timestamp_type=0, key=b'81', value=b'{\"Name\":\"Birdman\",\"Alignment\":\"good\",\"Intelligence\":1.00,\"Strength\":1.00,\"Speed\":1,\"Durability\":1.00,\"Power\":0.00,\"Combat\":1.00,\"Total\":5.00}', headers=[], checksum=None, serialized_key_size=2, serialized_value_size=141, serialized_header_size=-1),\n",
       "  ConsumerRecord(topic='heroes', partition=1, offset=28, timestamp=1640866097511, timestamp_type=0, key=b'84', value=b'{\"Name\":\"Black Abbott\",\"Alignment\":\"bad\",\"Intelligence\":1.00,\"Strength\":1.00,\"Speed\":1,\"Durability\":1.00,\"Power\":0.00,\"Combat\":1.00,\"Total\":5.00}', headers=[], checksum=None, serialized_key_size=2, serialized_value_size=145, serialized_header_size=-1),\n",
       "  ConsumerRecord(topic='heroes', partition=1, offset=29, timestamp=1640866107299, timestamp_type=0, key=b'86', value=b'{\"Name\":\"Black Bolt\",\"Alignment\":\"good\",\"Intelligence\":75.00,\"Strength\":67.00,\"Speed\":100,\"Durability\":84.00,\"Power\":100.00,\"Combat\":56.00,\"Total\":482.00}', headers=[], checksum=None, serialized_key_size=2, serialized_value_size=154, serialized_header_size=-1),\n",
       "  ConsumerRecord(topic='heroes', partition=1, offset=30, timestamp=1640866112216, timestamp_type=0, key=b'87', value=b'{\"Name\":\"Black Canary I\",\"Alignment\":\"good\",\"Intelligence\":1.00,\"Strength\":1.00,\"Speed\":1,\"Durability\":1.00,\"Power\":0.00,\"Combat\":1.00,\"Total\":5.00}', headers=[], checksum=None, serialized_key_size=2, serialized_value_size=148, serialized_header_size=-1),\n",
       "  ConsumerRecord(topic='heroes', partition=1, offset=31, timestamp=1640866147117, timestamp_type=0, key=b'94', value=b'{\"Name\":\"Black Panther\",\"Alignment\":\"good\",\"Intelligence\":88.00,\"Strength\":16.00,\"Speed\":30,\"Durability\":60.00,\"Power\":41.00,\"Combat\":100.00,\"Total\":335.00}', headers=[], checksum=None, serialized_key_size=2, serialized_value_size=156, serialized_header_size=-1),\n",
       "  ConsumerRecord(topic='heroes', partition=1, offset=32, timestamp=1640866153036, timestamp_type=0, key=b'95', value=b'{\"Name\":\"Black Widow\",\"Alignment\":\"good\",\"Intelligence\":75.00,\"Strength\":13.00,\"Speed\":27,\"Durability\":32.00,\"Power\":32.00,\"Combat\":100.00,\"Total\":279.00}', headers=[], checksum=None, serialized_key_size=2, serialized_value_size=154, serialized_header_size=-1),\n",
       "  ConsumerRecord(topic='heroes', partition=1, offset=33, timestamp=1640866228143, timestamp_type=0, key=b'110', value=b'{\"Name\":\"Bloodwraith\",\"Alignment\":\"bad\",\"Intelligence\":1.00,\"Strength\":1.00,\"Speed\":1,\"Durability\":1.00,\"Power\":0.00,\"Combat\":1.00,\"Total\":5.00}', headers=[], checksum=None, serialized_key_size=3, serialized_value_size=144, serialized_header_size=-1),\n",
       "  ConsumerRecord(topic='heroes', partition=1, offset=34, timestamp=1640866242818, timestamp_type=0, key=b'113', value=b'{\"Name\":\"Blue Beetle II\",\"Alignment\":\"good\",\"Intelligence\":1.00,\"Strength\":1.00,\"Speed\":1,\"Durability\":1.00,\"Power\":0.00,\"Combat\":1.00,\"Total\":5.00}', headers=[], checksum=None, serialized_key_size=3, serialized_value_size=148, serialized_header_size=-1),\n",
       "  ConsumerRecord(topic='heroes', partition=1, offset=35, timestamp=1640866252739, timestamp_type=0, key=b'115', value=b'{\"Name\":\"Bolt\",\"Alignment\":\"good\",\"Intelligence\":1.00,\"Strength\":1.00,\"Speed\":1,\"Durability\":1.00,\"Power\":0.00,\"Combat\":1.00,\"Total\":5.00}', headers=[], checksum=None, serialized_key_size=3, serialized_value_size=138, serialized_header_size=-1),\n",
       "  ConsumerRecord(topic='heroes', partition=1, offset=36, timestamp=1640866277548, timestamp_type=0, key=b'120', value=b'{\"Name\":\"Box\",\"Alignment\":\"good\",\"Intelligence\":1.00,\"Strength\":1.00,\"Speed\":1,\"Durability\":1.00,\"Power\":0.00,\"Combat\":1.00,\"Total\":5.00}', headers=[], checksum=None, serialized_key_size=3, serialized_value_size=137, serialized_header_size=-1),\n",
       "  ConsumerRecord(topic='heroes', partition=1, offset=37, timestamp=1640866282511, timestamp_type=0, key=b'121', value=b'{\"Name\":\"Box III\",\"Alignment\":\"good\",\"Intelligence\":1.00,\"Strength\":1.00,\"Speed\":1,\"Durability\":1.00,\"Power\":0.00,\"Combat\":1.00,\"Total\":5.00}', headers=[], checksum=None, serialized_key_size=3, serialized_value_size=141, serialized_header_size=-1),\n",
       "  ConsumerRecord(topic='heroes', partition=1, offset=38, timestamp=1640866287496, timestamp_type=0, key=b'122', value=b'{\"Name\":\"Box IV\",\"Alignment\":\"good\",\"Intelligence\":50.00,\"Strength\":75.00,\"Speed\":23,\"Durability\":28.00,\"Power\":11.00,\"Combat\":56.00,\"Total\":243.00}', headers=[], checksum=None, serialized_key_size=3, serialized_value_size=148, serialized_header_size=-1),\n",
       "  ConsumerRecord(topic='heroes', partition=1, offset=39, timestamp=1640866313236, timestamp_type=0, key=b'127', value=b'{\"Name\":\"Bumblebee\",\"Alignment\":\"good\",\"Intelligence\":63.00,\"Strength\":28.00,\"Speed\":25,\"Durability\":10.00,\"Power\":45.00,\"Combat\":35.00,\"Total\":206.00}', headers=[], checksum=None, serialized_key_size=3, serialized_value_size=151, serialized_header_size=-1),\n",
       "  ConsumerRecord(topic='heroes', partition=1, offset=40, timestamp=1640866323708, timestamp_type=0, key=b'129', value=b'{\"Name\":\"Bushido\",\"Alignment\":\"good\",\"Intelligence\":38.00,\"Strength\":10.00,\"Speed\":8,\"Durability\":10.00,\"Power\":19.00,\"Combat\":70.00,\"Total\":155.00}', headers=[], checksum=None, serialized_key_size=3, serialized_value_size=148, serialized_header_size=-1),\n",
       "  ConsumerRecord(topic='heroes', partition=1, offset=41, timestamp=1640866358217, timestamp_type=0, key=b'136', value=b'{\"Name\":\"Captain Britain\",\"Alignment\":\"good\",\"Intelligence\":75.00,\"Strength\":77.00,\"Speed\":50,\"Durability\":60.00,\"Power\":31.00,\"Combat\":80.00,\"Total\":373.00}', headers=[], checksum=None, serialized_key_size=3, serialized_value_size=157, serialized_header_size=-1),\n",
       "  ConsumerRecord(topic='heroes', partition=1, offset=42, timestamp=1640866387675, timestamp_type=0, key=b'142', value=b'{\"Name\":\"Captain Universe\",\"Alignment\":\"good\",\"Intelligence\":1.00,\"Strength\":1.00,\"Speed\":1,\"Durability\":1.00,\"Power\":0.00,\"Combat\":1.00,\"Total\":5.00}', headers=[], checksum=None, serialized_key_size=3, serialized_value_size=150, serialized_header_size=-1),\n",
       "  ConsumerRecord(topic='heroes', partition=1, offset=43, timestamp=1640866418528, timestamp_type=0, key=b'148', value=b'{\"Name\":\"Century\",\"Alignment\":\"good\",\"Intelligence\":88.00,\"Strength\":80.00,\"Speed\":53,\"Durability\":64.00,\"Power\":74.00,\"Combat\":100.00,\"Total\":459.00}', headers=[], checksum=None, serialized_key_size=3, serialized_value_size=150, serialized_header_size=-1),\n",
       "  ConsumerRecord(topic='heroes', partition=1, offset=44, timestamp=1640866423341, timestamp_type=0, key=b'149', value=b'{\"Name\":\"Cerebra\",\"Alignment\":\"good\",\"Intelligence\":1.00,\"Strength\":1.00,\"Speed\":1,\"Durability\":1.00,\"Power\":0.00,\"Combat\":1.00,\"Total\":5.00}', headers=[], checksum=None, serialized_key_size=3, serialized_value_size=141, serialized_header_size=-1),\n",
       "  ConsumerRecord(topic='heroes', partition=1, offset=45, timestamp=1640866473589, timestamp_type=0, key=b'159', value=b'{\"Name\":\"Clea\",\"Alignment\":\"good\",\"Intelligence\":1.00,\"Strength\":1.00,\"Speed\":1,\"Durability\":1.00,\"Power\":0.00,\"Combat\":1.00,\"Total\":5.00}', headers=[], checksum=None, serialized_key_size=3, serialized_value_size=138, serialized_header_size=-1),\n",
       "  ConsumerRecord(topic='heroes', partition=1, offset=46, timestamp=1640866531576, timestamp_type=0, key=b'170', value=b'{\"Name\":\"Cy-Gor\",\"Alignment\":\"bad\",\"Intelligence\":1.00,\"Strength\":1.00,\"Speed\":1,\"Durability\":1.00,\"Power\":0.00,\"Combat\":1.00,\"Total\":5.00}', headers=[], checksum=None, serialized_key_size=3, serialized_value_size=139, serialized_header_size=-1),\n",
       "  ConsumerRecord(topic='heroes', partition=1, offset=47, timestamp=1640866536468, timestamp_type=0, key=b'171', value=b'{\"Name\":\"Cyborg\",\"Alignment\":\"good\",\"Intelligence\":75.00,\"Strength\":53.00,\"Speed\":42,\"Durability\":85.00,\"Power\":72.00,\"Combat\":64.00,\"Total\":391.00}', headers=[], checksum=None, serialized_key_size=3, serialized_value_size=148, serialized_header_size=-1),\n",
       "  ConsumerRecord(topic='heroes', partition=1, offset=48, timestamp=1640866546986, timestamp_type=0, key=b'173', value=b'{\"Name\":\"Cyclops\",\"Alignment\":\"good\",\"Intelligence\":75.00,\"Strength\":10.00,\"Speed\":23,\"Durability\":42.00,\"Power\":76.00,\"Combat\":80.00,\"Total\":306.00}', headers=[], checksum=None, serialized_key_size=3, serialized_value_size=149, serialized_header_size=-1),\n",
       "  ConsumerRecord(topic='heroes', partition=1, offset=49, timestamp=1640866586159, timestamp_type=0, key=b'181', value=b'{\"Name\":\"Darkseid\",\"Alignment\":\"bad\",\"Intelligence\":88.00,\"Strength\":100.00,\"Speed\":23,\"Durability\":100.00,\"Power\":100.00,\"Combat\":95.00,\"Total\":506.00}', headers=[], checksum=None, serialized_key_size=3, serialized_value_size=152, serialized_header_size=-1),\n",
       "  ConsumerRecord(topic='heroes', partition=1, offset=50, timestamp=1640866612950, timestamp_type=0, key=b'186', value=b'{\"Name\":\"Deadman\",\"Alignment\":\"good\",\"Intelligence\":50.00,\"Strength\":10.00,\"Speed\":33,\"Durability\":100.00,\"Power\":100.00,\"Combat\":42.00,\"Total\":335.00}', headers=[], checksum=None, serialized_key_size=3, serialized_value_size=151, serialized_header_size=-1),\n",
       "  ConsumerRecord(topic='heroes', partition=1, offset=51, timestamp=1640866626668, timestamp_type=0, key=b'189', value=b'{\"Name\":\"Deathlok\",\"Alignment\":\"good\",\"Intelligence\":69.00,\"Strength\":32.00,\"Speed\":30,\"Durability\":70.00,\"Power\":40.00,\"Combat\":60.00,\"Total\":301.00}', headers=[], checksum=None, serialized_key_size=3, serialized_value_size=150, serialized_header_size=-1),\n",
       "  ConsumerRecord(topic='heroes', partition=1, offset=52, timestamp=1640866642622, timestamp_type=0, key=b'192', value=b'{\"Name\":\"Destroyer\",\"Alignment\":\"bad\",\"Intelligence\":50.00,\"Strength\":95.00,\"Speed\":58,\"Durability\":98.00,\"Power\":90.00,\"Combat\":70.00,\"Total\":461.00}', headers=[], checksum=None, serialized_key_size=3, serialized_value_size=150, serialized_header_size=-1),\n",
       "  ConsumerRecord(topic='heroes', partition=1, offset=53, timestamp=1640866647372, timestamp_type=0, key=b'193', value=b'{\"Name\":\"DL Hawkins\",\"Alignment\":\"good\",\"Intelligence\":50.00,\"Strength\":12.00,\"Speed\":12,\"Durability\":56.00,\"Power\":48.00,\"Combat\":56.00,\"Total\":234.00}', headers=[], checksum=None, serialized_key_size=3, serialized_value_size=152, serialized_header_size=-1),\n",
       "  ConsumerRecord(topic='heroes', partition=1, offset=54, timestamp=1640866667301, timestamp_type=0, key=b'197', value=b'{\"Name\":\"Doctor Fate\",\"Alignment\":\"good\",\"Intelligence\":81.00,\"Strength\":16.00,\"Speed\":25,\"Durability\":80.00,\"Power\":100.00,\"Combat\":50.00,\"Total\":352.00}', headers=[], checksum=None, serialized_key_size=3, serialized_value_size=154, serialized_header_size=-1),\n",
       "  ConsumerRecord(topic='heroes', partition=1, offset=55, timestamp=1640866682114, timestamp_type=0, key=b'200', value=b'{\"Name\":\"Domino\",\"Alignment\":\"good\",\"Intelligence\":63.00,\"Strength\":10.00,\"Speed\":27,\"Durability\":28.00,\"Power\":49.00,\"Combat\":74.00,\"Total\":251.00}', headers=[], checksum=None, serialized_key_size=3, serialized_value_size=148, serialized_header_size=-1),\n",
       "  ConsumerRecord(topic='heroes', partition=1, offset=56, timestamp=1640866686852, timestamp_type=0, key=b'201', value=b'{\"Name\":\"Donna Troy\",\"Alignment\":\"good\",\"Intelligence\":1.00,\"Strength\":1.00,\"Speed\":1,\"Durability\":1.00,\"Power\":0.00,\"Combat\":1.00,\"Total\":5.00}', headers=[], checksum=None, serialized_key_size=3, serialized_value_size=144, serialized_header_size=-1),\n",
       "  ConsumerRecord(topic='heroes', partition=1, offset=57, timestamp=1640866697997, timestamp_type=0, key=b'203', value=b'{\"Name\":\"Doppelganger\",\"Alignment\":\"bad\",\"Intelligence\":8.00,\"Strength\":63.00,\"Speed\":60,\"Durability\":95.00,\"Power\":62.00,\"Combat\":84.00,\"Total\":372.00}', headers=[], checksum=None, serialized_key_size=3, serialized_value_size=152, serialized_header_size=-1),\n",
       "  ConsumerRecord(topic='heroes', partition=1, offset=58, timestamp=1640866728026, timestamp_type=0, key=b'209', value=b'{\"Name\":\"Elektra\",\"Alignment\":\"good\",\"Intelligence\":63.00,\"Strength\":11.00,\"Speed\":30,\"Durability\":28.00,\"Power\":59.00,\"Combat\":100.00,\"Total\":291.00}', headers=[], checksum=None, serialized_key_size=3, serialized_value_size=150, serialized_header_size=-1),\n",
       "  ConsumerRecord(topic='heroes', partition=1, offset=59, timestamp=1640866739434, timestamp_type=0, key=b'211', value=b'{\"Name\":\"Elongated Man\",\"Alignment\":\"good\",\"Intelligence\":38.00,\"Strength\":10.00,\"Speed\":27,\"Durability\":90.00,\"Power\":41.00,\"Combat\":42.00,\"Total\":248.00}', headers=[], checksum=None, serialized_key_size=3, serialized_value_size=155, serialized_header_size=-1),\n",
       "  ConsumerRecord(topic='heroes', partition=1, offset=60, timestamp=1640866763110, timestamp_type=0, key=b'216', value=b'{\"Name\":\"Exodus\",\"Alignment\":\"bad\",\"Intelligence\":63.00,\"Strength\":81.00,\"Speed\":28,\"Durability\":28.00,\"Power\":100.00,\"Combat\":70.00,\"Total\":370.00}', headers=[], checksum=None, serialized_key_size=3, serialized_value_size=148, serialized_header_size=-1),\n",
       "  ConsumerRecord(topic='heroes', partition=1, offset=61, timestamp=1640866773010, timestamp_type=0, key=b'218', value=b'{\"Name\":\"Falcon\",\"Alignment\":\"good\",\"Intelligence\":38.00,\"Strength\":13.00,\"Speed\":50,\"Durability\":28.00,\"Power\":22.00,\"Combat\":64.00,\"Total\":215.00}', headers=[], checksum=None, serialized_key_size=3, serialized_value_size=148, serialized_header_size=-1),\n",
       "  ConsumerRecord(topic='heroes', partition=1, offset=62, timestamp=1640866783190, timestamp_type=0, key=b'220', value=b'{\"Name\":\"Faora\",\"Alignment\":\"bad\",\"Intelligence\":88.00,\"Strength\":95.00,\"Speed\":75,\"Durability\":100.00,\"Power\":87.00,\"Combat\":90.00,\"Total\":535.00}', headers=[], checksum=None, serialized_key_size=3, serialized_value_size=147, serialized_header_size=-1),\n",
       "  ConsumerRecord(topic='heroes', partition=1, offset=63, timestamp=1640866800222, timestamp_type=0, key=b'223', value=b'{\"Name\":\"Fin Fang Foom\",\"Alignment\":\"good\",\"Intelligence\":50.00,\"Strength\":81.00,\"Speed\":23,\"Durability\":100.00,\"Power\":68.00,\"Combat\":70.00,\"Total\":392.00}', headers=[], checksum=None, serialized_key_size=3, serialized_value_size=156, serialized_header_size=-1),\n",
       "  ConsumerRecord(topic='heroes', partition=1, offset=64, timestamp=1640866810340, timestamp_type=0, key=b'225', value=b'{\"Name\":\"Firelord\",\"Alignment\":\"good\",\"Intelligence\":38.00,\"Strength\":63.00,\"Speed\":75,\"Durability\":90.00,\"Power\":48.00,\"Combat\":28.00,\"Total\":342.00}', headers=[], checksum=None, serialized_key_size=3, serialized_value_size=150, serialized_header_size=-1),\n",
       "  ConsumerRecord(topic='heroes', partition=1, offset=65, timestamp=1640866814995, timestamp_type=0, key=b'226', value=b'{\"Name\":\"Firestar\",\"Alignment\":\"good\",\"Intelligence\":50.00,\"Strength\":8.00,\"Speed\":54,\"Durability\":55.00,\"Power\":71.00,\"Combat\":32.00,\"Total\":270.00}', headers=[], checksum=None, serialized_key_size=3, serialized_value_size=149, serialized_header_size=-1),\n",
       "  ConsumerRecord(topic='heroes', partition=1, offset=66, timestamp=1640866839042, timestamp_type=0, key=b'231', value=b'{\"Name\":\"Flash II\",\"Alignment\":\"good\",\"Intelligence\":63.00,\"Strength\":10.00,\"Speed\":100,\"Durability\":60.00,\"Power\":66.00,\"Combat\":32.00,\"Total\":331.00}', headers=[], checksum=None, serialized_key_size=3, serialized_value_size=151, serialized_header_size=-1),\n",
       "  ConsumerRecord(topic='heroes', partition=1, offset=67, timestamp=1640866843737, timestamp_type=0, key=b'232', value=b'{\"Name\":\"Flash III\",\"Alignment\":\"good\",\"Intelligence\":63.00,\"Strength\":10.00,\"Speed\":100,\"Durability\":60.00,\"Power\":83.00,\"Combat\":32.00,\"Total\":348.00}', headers=[], checksum=None, serialized_key_size=3, serialized_value_size=152, serialized_header_size=-1),\n",
       "  ConsumerRecord(topic='heroes', partition=1, offset=68, timestamp=1640866877826, timestamp_type=0, key=b'239', value=b'{\"Name\":\"Galactus\",\"Alignment\":\"neutral\",\"Intelligence\":100.00,\"Strength\":100.00,\"Speed\":83,\"Durability\":100.00,\"Power\":100.00,\"Combat\":70.00,\"Total\":553.00}', headers=[], checksum=None, serialized_key_size=3, serialized_value_size=157, serialized_header_size=-1),\n",
       "  ConsumerRecord(topic='heroes', partition=1, offset=69, timestamp=1640866897587, timestamp_type=0, key=b'243', value=b'{\"Name\":\"General Zod\",\"Alignment\":\"bad\",\"Intelligence\":94.00,\"Strength\":100.00,\"Speed\":96,\"Durability\":100.00,\"Power\":94.00,\"Combat\":95.00,\"Total\":579.00}', headers=[], checksum=None, serialized_key_size=3, serialized_value_size=154, serialized_header_size=-1),\n",
       "  ConsumerRecord(topic='heroes', partition=1, offset=70, timestamp=1640866906761, timestamp_type=0, key=b'245', value=b'{\"Name\":\"Ghost Rider\",\"Alignment\":\"good\",\"Intelligence\":50.00,\"Strength\":55.00,\"Speed\":25,\"Durability\":100.00,\"Power\":70.00,\"Combat\":60.00,\"Total\":360.00}', headers=[], checksum=None, serialized_key_size=3, serialized_value_size=154, serialized_header_size=-1),\n",
       "  ConsumerRecord(topic='heroes', partition=1, offset=71, timestamp=1640866912999, timestamp_type=0, key=b'246', value=b'{\"Name\":\"Ghost Rider II\",\"Alignment\":\"good\",\"Intelligence\":1.00,\"Strength\":1.00,\"Speed\":1,\"Durability\":1.00,\"Power\":0.00,\"Combat\":1.00,\"Total\":5.00}', headers=[], checksum=None, serialized_key_size=3, serialized_value_size=148, serialized_header_size=-1),\n",
       "  ConsumerRecord(topic='heroes', partition=1, offset=72, timestamp=1640866922764, timestamp_type=0, key=b'248', value=b'{\"Name\":\"Giant-Man II\",\"Alignment\":\"good\",\"Intelligence\":1.00,\"Strength\":1.00,\"Speed\":1,\"Durability\":1.00,\"Power\":0.00,\"Combat\":1.00,\"Total\":5.00}', headers=[], checksum=None, serialized_key_size=3, serialized_value_size=146, serialized_header_size=-1),\n",
       "  ConsumerRecord(topic='heroes', partition=1, offset=73, timestamp=1640866937391, timestamp_type=0, key=b'251', value=b'{\"Name\":\"Gog\",\"Alignment\":\"bad\",\"Intelligence\":50.00,\"Strength\":34.00,\"Speed\":47,\"Durability\":72.00,\"Power\":39.00,\"Combat\":56.00,\"Total\":298.00}', headers=[], checksum=None, serialized_key_size=3, serialized_value_size=144, serialized_header_size=-1),\n",
       "  ConsumerRecord(topic='heroes', partition=1, offset=74, timestamp=1640866947937, timestamp_type=0, key=b'253', value=b'{\"Name\":\"Goliath\",\"Alignment\":\"good\",\"Intelligence\":1.00,\"Strength\":1.00,\"Speed\":1,\"Durability\":1.00,\"Power\":0.00,\"Combat\":1.00,\"Total\":5.00}', headers=[], checksum=None, serialized_key_size=3, serialized_value_size=141, serialized_header_size=-1),\n",
       "  ConsumerRecord(topic='heroes', partition=1, offset=75, timestamp=1640866952944, timestamp_type=0, key=b'254', value=b'{\"Name\":\"Goliath II\",\"Alignment\":\"good\",\"Intelligence\":1.00,\"Strength\":1.00,\"Speed\":1,\"Durability\":1.00,\"Power\":0.00,\"Combat\":1.00,\"Total\":5.00}', headers=[], checksum=None, serialized_key_size=3, serialized_value_size=144, serialized_header_size=-1),\n",
       "  ConsumerRecord(topic='heroes', partition=1, offset=76, timestamp=1640866977406, timestamp_type=0, key=b'259', value=b'{\"Name\":\"Green Arrow\",\"Alignment\":\"good\",\"Intelligence\":75.00,\"Strength\":12.00,\"Speed\":35,\"Durability\":28.00,\"Power\":26.00,\"Combat\":90.00,\"Total\":266.00}', headers=[], checksum=None, serialized_key_size=3, serialized_value_size=153, serialized_header_size=-1),\n",
       "  ConsumerRecord(topic='heroes', partition=1, offset=77, timestamp=1640866982338, timestamp_type=0, key=b'260', value=b'{\"Name\":\"Green Goblin\",\"Alignment\":\"bad\",\"Intelligence\":75.00,\"Strength\":48.00,\"Speed\":35,\"Durability\":48.00,\"Power\":38.00,\"Combat\":28.00,\"Total\":272.00}', headers=[], checksum=None, serialized_key_size=3, serialized_value_size=153, serialized_header_size=-1)]}"
      ]
     },
     "execution_count": 46,
     "metadata": {},
     "output_type": "execute_result"
    }
   ],
   "source": [
    "new_cons.seek_to_beginning(partition)\n",
    "\n",
    "new_cons.poll()"
   ]
  }
 ],
 "metadata": {
  "kernelspec": {
   "display_name": "Python 3 (ipykernel)",
   "language": "python",
   "name": "python3"
  },
  "language_info": {
   "codemirror_mode": {
    "name": "ipython",
    "version": 3
   },
   "file_extension": ".py",
   "mimetype": "text/x-python",
   "name": "python",
   "nbconvert_exporter": "python",
   "pygments_lexer": "ipython3",
   "version": "3.9.7"
  }
 },
 "nbformat": 4,
 "nbformat_minor": 2
}
